{
 "cells": [
  {
   "cell_type": "code",
   "execution_count": 1,
   "metadata": {},
   "outputs": [],
   "source": [
    "import pandas as pd\n",
    "import warnings\n",
    "warnings.filterwarnings('ignore')\n",
    "import matplotlib.pyplot as plt\n",
    "%matplotlib inline\n",
    "import seaborn as sns"
   ]
  },
  {
   "cell_type": "code",
   "execution_count": 2,
   "metadata": {},
   "outputs": [],
   "source": [
    "df=pd.read_excel('Survey MissionEd.xlsx')"
   ]
  },
  {
   "cell_type": "code",
   "execution_count": 3,
   "metadata": {},
   "outputs": [
    {
     "data": {
      "text/html": [
       "<div>\n",
       "<style scoped>\n",
       "    .dataframe tbody tr th:only-of-type {\n",
       "        vertical-align: middle;\n",
       "    }\n",
       "\n",
       "    .dataframe tbody tr th {\n",
       "        vertical-align: top;\n",
       "    }\n",
       "\n",
       "    .dataframe thead th {\n",
       "        text-align: right;\n",
       "    }\n",
       "</style>\n",
       "<table border=\"1\" class=\"dataframe\">\n",
       "  <thead>\n",
       "    <tr style=\"text-align: right;\">\n",
       "      <th></th>\n",
       "      <th>Age</th>\n",
       "      <th>Gender</th>\n",
       "      <th>State</th>\n",
       "      <th>City</th>\n",
       "      <th>Employment Status</th>\n",
       "      <th>Average Quarterly expenditure on various e-commerce platforms</th>\n",
       "      <th>Product Category you like</th>\n",
       "    </tr>\n",
       "  </thead>\n",
       "  <tbody>\n",
       "    <tr>\n",
       "      <th>0</th>\n",
       "      <td>21</td>\n",
       "      <td>Female</td>\n",
       "      <td>Haryana</td>\n",
       "      <td>Tier-3</td>\n",
       "      <td>Student</td>\n",
       "      <td>Below ₹1000</td>\n",
       "      <td>Fashion</td>\n",
       "    </tr>\n",
       "    <tr>\n",
       "      <th>1</th>\n",
       "      <td>14</td>\n",
       "      <td>Male</td>\n",
       "      <td>Haryana</td>\n",
       "      <td>Tier-3</td>\n",
       "      <td>Student</td>\n",
       "      <td>Below ₹1000</td>\n",
       "      <td>Accessories</td>\n",
       "    </tr>\n",
       "    <tr>\n",
       "      <th>2</th>\n",
       "      <td>14</td>\n",
       "      <td>Male</td>\n",
       "      <td>Haryana</td>\n",
       "      <td>Tier-3</td>\n",
       "      <td>Student</td>\n",
       "      <td>Above ₹10000</td>\n",
       "      <td>Fashion</td>\n",
       "    </tr>\n",
       "    <tr>\n",
       "      <th>3</th>\n",
       "      <td>24</td>\n",
       "      <td>Male</td>\n",
       "      <td>Uttar Pradesh</td>\n",
       "      <td>Tier-2</td>\n",
       "      <td>Student</td>\n",
       "      <td>₹1000-₹5000</td>\n",
       "      <td>Accessories</td>\n",
       "    </tr>\n",
       "    <tr>\n",
       "      <th>4</th>\n",
       "      <td>20</td>\n",
       "      <td>Female</td>\n",
       "      <td>Uttar Pradesh</td>\n",
       "      <td>Tier-2</td>\n",
       "      <td>Student</td>\n",
       "      <td>Below ₹1000</td>\n",
       "      <td>Books</td>\n",
       "    </tr>\n",
       "    <tr>\n",
       "      <th>5</th>\n",
       "      <td>15</td>\n",
       "      <td>Male</td>\n",
       "      <td>Haryana</td>\n",
       "      <td>Tier-3</td>\n",
       "      <td>Student</td>\n",
       "      <td>Below ₹1000</td>\n",
       "      <td>Health and Households</td>\n",
       "    </tr>\n",
       "    <tr>\n",
       "      <th>6</th>\n",
       "      <td>14</td>\n",
       "      <td>Male</td>\n",
       "      <td>Haryana</td>\n",
       "      <td>Tier-3</td>\n",
       "      <td>Student</td>\n",
       "      <td>Above ₹10000</td>\n",
       "      <td>Accessories</td>\n",
       "    </tr>\n",
       "    <tr>\n",
       "      <th>7</th>\n",
       "      <td>15</td>\n",
       "      <td>Male</td>\n",
       "      <td>Haryana</td>\n",
       "      <td>Tier-3</td>\n",
       "      <td>Student</td>\n",
       "      <td>₹1000-₹5000</td>\n",
       "      <td>Accessories</td>\n",
       "    </tr>\n",
       "    <tr>\n",
       "      <th>8</th>\n",
       "      <td>24</td>\n",
       "      <td>Male</td>\n",
       "      <td>Madhya Pradesh</td>\n",
       "      <td>Tier-2</td>\n",
       "      <td>Employed</td>\n",
       "      <td>₹5000-₹10000</td>\n",
       "      <td>Fashion</td>\n",
       "    </tr>\n",
       "    <tr>\n",
       "      <th>9</th>\n",
       "      <td>15</td>\n",
       "      <td>Male</td>\n",
       "      <td>Haryana</td>\n",
       "      <td>Tier-3</td>\n",
       "      <td>Student</td>\n",
       "      <td>₹1000-₹5000</td>\n",
       "      <td>Accessories</td>\n",
       "    </tr>\n",
       "  </tbody>\n",
       "</table>\n",
       "</div>"
      ],
      "text/plain": [
       "   Age  Gender           State    City Employment Status  \\\n",
       "0   21  Female         Haryana  Tier-3           Student   \n",
       "1   14    Male         Haryana  Tier-3           Student   \n",
       "2   14    Male         Haryana  Tier-3           Student   \n",
       "3   24    Male   Uttar Pradesh  Tier-2           Student   \n",
       "4   20  Female   Uttar Pradesh  Tier-2           Student   \n",
       "5   15    Male         Haryana  Tier-3           Student   \n",
       "6   14    Male         Haryana  Tier-3           Student   \n",
       "7   15    Male         Haryana  Tier-3           Student   \n",
       "8   24    Male  Madhya Pradesh  Tier-2          Employed   \n",
       "9   15    Male         Haryana  Tier-3           Student   \n",
       "\n",
       "  Average Quarterly expenditure on various e-commerce platforms  \\\n",
       "0                                        Below ₹1000              \n",
       "1                                        Below ₹1000              \n",
       "2                                       Above ₹10000              \n",
       "3                                        ₹1000-₹5000              \n",
       "4                                        Below ₹1000              \n",
       "5                                        Below ₹1000              \n",
       "6                                       Above ₹10000              \n",
       "7                                        ₹1000-₹5000              \n",
       "8                                       ₹5000-₹10000              \n",
       "9                                        ₹1000-₹5000              \n",
       "\n",
       "  Product Category you like  \n",
       "0                   Fashion  \n",
       "1               Accessories  \n",
       "2                   Fashion  \n",
       "3               Accessories  \n",
       "4                     Books  \n",
       "5     Health and Households  \n",
       "6               Accessories  \n",
       "7               Accessories  \n",
       "8                   Fashion  \n",
       "9               Accessories  "
      ]
     },
     "execution_count": 3,
     "metadata": {},
     "output_type": "execute_result"
    }
   ],
   "source": [
    "df.head(10)"
   ]
  },
  {
   "cell_type": "code",
   "execution_count": 4,
   "metadata": {},
   "outputs": [],
   "source": [
    "df.columns=['Age', 'Gender', 'State', 'City', 'Employment Status',\n",
    "       'Average Quarterly expenditure on various e-commerce platforms',\n",
    "       'Product Category they like']"
   ]
  },
  {
   "cell_type": "code",
   "execution_count": 5,
   "metadata": {},
   "outputs": [
    {
     "data": {
      "text/html": [
       "<div>\n",
       "<style scoped>\n",
       "    .dataframe tbody tr th:only-of-type {\n",
       "        vertical-align: middle;\n",
       "    }\n",
       "\n",
       "    .dataframe tbody tr th {\n",
       "        vertical-align: top;\n",
       "    }\n",
       "\n",
       "    .dataframe thead th {\n",
       "        text-align: right;\n",
       "    }\n",
       "</style>\n",
       "<table border=\"1\" class=\"dataframe\">\n",
       "  <thead>\n",
       "    <tr style=\"text-align: right;\">\n",
       "      <th></th>\n",
       "      <th>Age</th>\n",
       "      <th>Gender</th>\n",
       "      <th>State</th>\n",
       "      <th>City</th>\n",
       "      <th>Employment Status</th>\n",
       "      <th>Average Quarterly expenditure on various e-commerce platforms</th>\n",
       "      <th>Product Category they like</th>\n",
       "    </tr>\n",
       "  </thead>\n",
       "  <tbody>\n",
       "    <tr>\n",
       "      <th>0</th>\n",
       "      <td>21</td>\n",
       "      <td>Female</td>\n",
       "      <td>Haryana</td>\n",
       "      <td>Tier-3</td>\n",
       "      <td>Student</td>\n",
       "      <td>Below ₹1000</td>\n",
       "      <td>Fashion</td>\n",
       "    </tr>\n",
       "    <tr>\n",
       "      <th>1</th>\n",
       "      <td>14</td>\n",
       "      <td>Male</td>\n",
       "      <td>Haryana</td>\n",
       "      <td>Tier-3</td>\n",
       "      <td>Student</td>\n",
       "      <td>Below ₹1000</td>\n",
       "      <td>Accessories</td>\n",
       "    </tr>\n",
       "    <tr>\n",
       "      <th>2</th>\n",
       "      <td>14</td>\n",
       "      <td>Male</td>\n",
       "      <td>Haryana</td>\n",
       "      <td>Tier-3</td>\n",
       "      <td>Student</td>\n",
       "      <td>Above ₹10000</td>\n",
       "      <td>Fashion</td>\n",
       "    </tr>\n",
       "    <tr>\n",
       "      <th>3</th>\n",
       "      <td>24</td>\n",
       "      <td>Male</td>\n",
       "      <td>Uttar Pradesh</td>\n",
       "      <td>Tier-2</td>\n",
       "      <td>Student</td>\n",
       "      <td>₹1000-₹5000</td>\n",
       "      <td>Accessories</td>\n",
       "    </tr>\n",
       "    <tr>\n",
       "      <th>4</th>\n",
       "      <td>20</td>\n",
       "      <td>Female</td>\n",
       "      <td>Uttar Pradesh</td>\n",
       "      <td>Tier-2</td>\n",
       "      <td>Student</td>\n",
       "      <td>Below ₹1000</td>\n",
       "      <td>Books</td>\n",
       "    </tr>\n",
       "    <tr>\n",
       "      <th>5</th>\n",
       "      <td>15</td>\n",
       "      <td>Male</td>\n",
       "      <td>Haryana</td>\n",
       "      <td>Tier-3</td>\n",
       "      <td>Student</td>\n",
       "      <td>Below ₹1000</td>\n",
       "      <td>Health and Households</td>\n",
       "    </tr>\n",
       "    <tr>\n",
       "      <th>6</th>\n",
       "      <td>14</td>\n",
       "      <td>Male</td>\n",
       "      <td>Haryana</td>\n",
       "      <td>Tier-3</td>\n",
       "      <td>Student</td>\n",
       "      <td>Above ₹10000</td>\n",
       "      <td>Accessories</td>\n",
       "    </tr>\n",
       "    <tr>\n",
       "      <th>7</th>\n",
       "      <td>15</td>\n",
       "      <td>Male</td>\n",
       "      <td>Haryana</td>\n",
       "      <td>Tier-3</td>\n",
       "      <td>Student</td>\n",
       "      <td>₹1000-₹5000</td>\n",
       "      <td>Accessories</td>\n",
       "    </tr>\n",
       "    <tr>\n",
       "      <th>8</th>\n",
       "      <td>24</td>\n",
       "      <td>Male</td>\n",
       "      <td>Madhya Pradesh</td>\n",
       "      <td>Tier-2</td>\n",
       "      <td>Employed</td>\n",
       "      <td>₹5000-₹10000</td>\n",
       "      <td>Fashion</td>\n",
       "    </tr>\n",
       "    <tr>\n",
       "      <th>9</th>\n",
       "      <td>15</td>\n",
       "      <td>Male</td>\n",
       "      <td>Haryana</td>\n",
       "      <td>Tier-3</td>\n",
       "      <td>Student</td>\n",
       "      <td>₹1000-₹5000</td>\n",
       "      <td>Accessories</td>\n",
       "    </tr>\n",
       "  </tbody>\n",
       "</table>\n",
       "</div>"
      ],
      "text/plain": [
       "   Age  Gender           State    City Employment Status  \\\n",
       "0   21  Female         Haryana  Tier-3           Student   \n",
       "1   14    Male         Haryana  Tier-3           Student   \n",
       "2   14    Male         Haryana  Tier-3           Student   \n",
       "3   24    Male   Uttar Pradesh  Tier-2           Student   \n",
       "4   20  Female   Uttar Pradesh  Tier-2           Student   \n",
       "5   15    Male         Haryana  Tier-3           Student   \n",
       "6   14    Male         Haryana  Tier-3           Student   \n",
       "7   15    Male         Haryana  Tier-3           Student   \n",
       "8   24    Male  Madhya Pradesh  Tier-2          Employed   \n",
       "9   15    Male         Haryana  Tier-3           Student   \n",
       "\n",
       "  Average Quarterly expenditure on various e-commerce platforms  \\\n",
       "0                                        Below ₹1000              \n",
       "1                                        Below ₹1000              \n",
       "2                                       Above ₹10000              \n",
       "3                                        ₹1000-₹5000              \n",
       "4                                        Below ₹1000              \n",
       "5                                        Below ₹1000              \n",
       "6                                       Above ₹10000              \n",
       "7                                        ₹1000-₹5000              \n",
       "8                                       ₹5000-₹10000              \n",
       "9                                        ₹1000-₹5000              \n",
       "\n",
       "  Product Category they like  \n",
       "0                    Fashion  \n",
       "1                Accessories  \n",
       "2                    Fashion  \n",
       "3                Accessories  \n",
       "4                      Books  \n",
       "5      Health and Households  \n",
       "6                Accessories  \n",
       "7                Accessories  \n",
       "8                    Fashion  \n",
       "9                Accessories  "
      ]
     },
     "execution_count": 5,
     "metadata": {},
     "output_type": "execute_result"
    }
   ],
   "source": [
    "df.head(10)"
   ]
  },
  {
   "cell_type": "code",
   "execution_count": 6,
   "metadata": {},
   "outputs": [
    {
     "data": {
      "text/html": [
       "<div>\n",
       "<style scoped>\n",
       "    .dataframe tbody tr th:only-of-type {\n",
       "        vertical-align: middle;\n",
       "    }\n",
       "\n",
       "    .dataframe tbody tr th {\n",
       "        vertical-align: top;\n",
       "    }\n",
       "\n",
       "    .dataframe thead th {\n",
       "        text-align: right;\n",
       "    }\n",
       "</style>\n",
       "<table border=\"1\" class=\"dataframe\">\n",
       "  <thead>\n",
       "    <tr style=\"text-align: right;\">\n",
       "      <th></th>\n",
       "      <th>Age</th>\n",
       "    </tr>\n",
       "  </thead>\n",
       "  <tbody>\n",
       "    <tr>\n",
       "      <th>count</th>\n",
       "      <td>229.000000</td>\n",
       "    </tr>\n",
       "    <tr>\n",
       "      <th>mean</th>\n",
       "      <td>24.532751</td>\n",
       "    </tr>\n",
       "    <tr>\n",
       "      <th>std</th>\n",
       "      <td>8.398257</td>\n",
       "    </tr>\n",
       "    <tr>\n",
       "      <th>min</th>\n",
       "      <td>13.000000</td>\n",
       "    </tr>\n",
       "    <tr>\n",
       "      <th>25%</th>\n",
       "      <td>21.000000</td>\n",
       "    </tr>\n",
       "    <tr>\n",
       "      <th>50%</th>\n",
       "      <td>21.000000</td>\n",
       "    </tr>\n",
       "    <tr>\n",
       "      <th>75%</th>\n",
       "      <td>24.000000</td>\n",
       "    </tr>\n",
       "    <tr>\n",
       "      <th>max</th>\n",
       "      <td>58.000000</td>\n",
       "    </tr>\n",
       "  </tbody>\n",
       "</table>\n",
       "</div>"
      ],
      "text/plain": [
       "              Age\n",
       "count  229.000000\n",
       "mean    24.532751\n",
       "std      8.398257\n",
       "min     13.000000\n",
       "25%     21.000000\n",
       "50%     21.000000\n",
       "75%     24.000000\n",
       "max     58.000000"
      ]
     },
     "execution_count": 6,
     "metadata": {},
     "output_type": "execute_result"
    }
   ],
   "source": [
    "df.describe()"
   ]
  },
  {
   "cell_type": "code",
   "execution_count": 7,
   "metadata": {},
   "outputs": [
    {
     "data": {
      "text/plain": [
       "(229, 7)"
      ]
     },
     "execution_count": 7,
     "metadata": {},
     "output_type": "execute_result"
    }
   ],
   "source": [
    "df.shape"
   ]
  },
  {
   "cell_type": "code",
   "execution_count": 8,
   "metadata": {},
   "outputs": [
    {
     "data": {
      "text/plain": [
       "Age                                                               int64\n",
       "Gender                                                           object\n",
       "State                                                            object\n",
       "City                                                             object\n",
       "Employment Status                                                object\n",
       "Average Quarterly expenditure on various e-commerce platforms    object\n",
       "Product Category they like                                       object\n",
       "dtype: object"
      ]
     },
     "execution_count": 8,
     "metadata": {},
     "output_type": "execute_result"
    }
   ],
   "source": [
    "df.dtypes"
   ]
  },
  {
   "cell_type": "code",
   "execution_count": 9,
   "metadata": {},
   "outputs": [
    {
     "name": "stdout",
     "output_type": "stream",
     "text": [
      "<class 'pandas.core.frame.DataFrame'>\n",
      "RangeIndex: 229 entries, 0 to 228\n",
      "Data columns (total 7 columns):\n",
      " #   Column                                                         Non-Null Count  Dtype \n",
      "---  ------                                                         --------------  ----- \n",
      " 0   Age                                                            229 non-null    int64 \n",
      " 1   Gender                                                         229 non-null    object\n",
      " 2   State                                                          229 non-null    object\n",
      " 3   City                                                           229 non-null    object\n",
      " 4   Employment Status                                              229 non-null    object\n",
      " 5   Average Quarterly expenditure on various e-commerce platforms  229 non-null    object\n",
      " 6   Product Category they like                                     229 non-null    object\n",
      "dtypes: int64(1), object(6)\n",
      "memory usage: 12.6+ KB\n"
     ]
    }
   ],
   "source": [
    "df.info()"
   ]
  },
  {
   "cell_type": "code",
   "execution_count": 10,
   "metadata": {},
   "outputs": [
    {
     "data": {
      "text/plain": [
       "Age                                                              0\n",
       "Gender                                                           0\n",
       "State                                                            0\n",
       "City                                                             0\n",
       "Employment Status                                                0\n",
       "Average Quarterly expenditure on various e-commerce platforms    0\n",
       "Product Category they like                                       0\n",
       "dtype: int64"
      ]
     },
     "execution_count": 10,
     "metadata": {},
     "output_type": "execute_result"
    }
   ],
   "source": [
    "df.isnull().sum()"
   ]
  },
  {
   "cell_type": "code",
   "execution_count": 11,
   "metadata": {},
   "outputs": [
    {
     "name": "stdout",
     "output_type": "stream",
     "text": [
      "Age :  [21 14 24 20 15 48 44 43 50 36 22 23 30 16 19 26 45 17 37 31 32 13 18 27\n",
      " 29 25 46 35 56 34 42 51 58 28 33 41 38 40]\n",
      "Number of unique values in  Age column is 38\n",
      "\n",
      "\n",
      "Gender :  ['Female' 'Male']\n",
      "Number of unique values in  Gender column is 2\n",
      "\n",
      "\n",
      "State :  ['Haryana' 'Uttar Pradesh' 'Madhya Pradesh' 'Karnataka' 'Delhi'\n",
      " 'Tamil Nadu' 'Bihar' 'Rajasthan' 'Kerala' 'Telangana' 'Maharashtra'\n",
      " 'West Bengal' 'Chhattisgarh' 'Jharkhand' 'Jammu and Kashmir' 'Odisha'\n",
      " 'Gujarat' 'Andhra Pradesh']\n",
      "Number of unique values in  State column is 18\n",
      "\n",
      "\n",
      "City :  ['Tier-3' 'Tier-2' 'Tier-1']\n",
      "Number of unique values in  City column is 3\n",
      "\n",
      "\n",
      "Employment Status :  ['Student' 'Employed' 'House keeper' 'Self employed']\n",
      "Number of unique values in  Employment Status column is 4\n",
      "\n",
      "\n",
      "Average Quarterly expenditure on various e-commerce platforms :  ['Below ₹1000' 'Above ₹10000' '₹1000-₹5000' '₹5000-₹10000']\n",
      "Number of unique values in  Average Quarterly expenditure on various e-commerce platforms column is 4\n",
      "\n",
      "\n",
      "Product Category they like :  ['Fashion' 'Accessories' 'Books' 'Health and Households']\n",
      "Number of unique values in  Product Category they like column is 4\n",
      "\n",
      "\n"
     ]
    }
   ],
   "source": [
    "for i in df.columns:\n",
    "    print(i,': ',df[i].unique())\n",
    "    print('Number of unique values in ',i,'column is',len(df[i].unique()))\n",
    "    print('\\n')"
   ]
  },
  {
   "cell_type": "code",
   "execution_count": 12,
   "metadata": {},
   "outputs": [
    {
     "data": {
      "text/plain": [
       "Male      140\n",
       "Female     89\n",
       "Name: Gender, dtype: int64"
      ]
     },
     "execution_count": 12,
     "metadata": {},
     "output_type": "execute_result"
    }
   ],
   "source": [
    "df['Gender'].value_counts()"
   ]
  },
  {
   "cell_type": "code",
   "execution_count": 13,
   "metadata": {},
   "outputs": [
    {
     "data": {
      "text/plain": [
       "<matplotlib.axes._subplots.AxesSubplot at 0x1e32f76c490>"
      ]
     },
     "execution_count": 13,
     "metadata": {},
     "output_type": "execute_result"
    },
    {
     "data": {
      "image/png": "[encoded data removed]",
      "text/plain": [
       "<Figure size 432x288 with 1 Axes>"
      ]
     },
     "metadata": {
      "needs_background": "light"
     },
     "output_type": "display_data"
    }
   ],
   "source": [
    "sns.countplot('Gender',data=df,palette='viridis')"
   ]
  },
  {
   "cell_type": "code",
   "execution_count": 14,
   "metadata": {},
   "outputs": [],
   "source": [
    "sex=pd.get_dummies(df['Gender'],drop_first=True)"
   ]
  },
  {
   "cell_type": "code",
   "execution_count": 15,
   "metadata": {},
   "outputs": [
    {
     "data": {
      "text/plain": [
       "<matplotlib.axes._subplots.AxesSubplot at 0x1e32fe90430>"
      ]
     },
     "execution_count": 15,
     "metadata": {},
     "output_type": "execute_result"
    },
    {
     "data": {
      "image/png": "[encoded data removed]",
      "text/plain": [
       "<Figure size 432x288 with 1 Axes>"
      ]
     },
     "metadata": {
      "needs_background": "light"
     },
     "output_type": "display_data"
    }
   ],
   "source": [
    "sns.countplot('City',data=df,palette='bright')"
   ]
  },
  {
   "cell_type": "code",
   "execution_count": 16,
   "metadata": {},
   "outputs": [
    {
     "data": {
      "text/plain": [
       "<matplotlib.axes._subplots.AxesSubplot at 0x1e32fee18e0>"
      ]
     },
     "execution_count": 16,
     "metadata": {},
     "output_type": "execute_result"
    },
    {
     "data": {
      "image/png": "[encoded data removed]",
      "text/plain": [
       "<Figure size 432x288 with 1 Axes>"
      ]
     },
     "metadata": {
      "needs_background": "light"
     },
     "output_type": "display_data"
    }
   ],
   "source": [
    "sns.countplot('Employment Status',data=df)"
   ]
  },
  {
   "cell_type": "code",
   "execution_count": 17,
   "metadata": {},
   "outputs": [
    {
     "data": {
      "text/plain": [
       "<matplotlib.axes._subplots.AxesSubplot at 0x1e32ff2b760>"
      ]
     },
     "execution_count": 17,
     "metadata": {},
     "output_type": "execute_result"
    },
    {
     "data": {
      "image/png": "[encoded data removed]",
      "text/plain": [
       "<Figure size 720x360 with 1 Axes>"
      ]
     },
     "metadata": {
      "needs_background": "light"
     },
     "output_type": "display_data"
    }
   ],
   "source": [
    "plt.figure(figsize=(10,5))\n",
    "sns.countplot('Average Quarterly expenditure on various e-commerce platforms',data=df)"
   ]
  },
  {
   "cell_type": "code",
   "execution_count": 18,
   "metadata": {},
   "outputs": [],
   "source": [
    "city_23=pd.get_dummies(df['City'],drop_first=True)\n",
    "emp_status=pd.get_dummies(df['Employment Status'],drop_first=True)\n",
    "avg_expenditure=pd.get_dummies(df['Average Quarterly expenditure on various e-commerce platforms'],drop_first=True)"
   ]
  },
  {
   "cell_type": "code",
   "execution_count": 19,
   "metadata": {},
   "outputs": [],
   "source": [
    "df=pd.concat([df,sex,city_23,emp_status,avg_expenditure],axis=1)"
   ]
  },
  {
   "cell_type": "code",
   "execution_count": 20,
   "metadata": {},
   "outputs": [],
   "source": [
    "df=df.drop(['Gender','City','Employment Status','Average Quarterly expenditure on various e-commerce platforms'],axis=1)"
   ]
  },
  {
   "cell_type": "code",
   "execution_count": 21,
   "metadata": {},
   "outputs": [
    {
     "data": {
      "text/html": [
       "<div>\n",
       "<style scoped>\n",
       "    .dataframe tbody tr th:only-of-type {\n",
       "        vertical-align: middle;\n",
       "    }\n",
       "\n",
       "    .dataframe tbody tr th {\n",
       "        vertical-align: top;\n",
       "    }\n",
       "\n",
       "    .dataframe thead th {\n",
       "        text-align: right;\n",
       "    }\n",
       "</style>\n",
       "<table border=\"1\" class=\"dataframe\">\n",
       "  <thead>\n",
       "    <tr style=\"text-align: right;\">\n",
       "      <th></th>\n",
       "      <th>Age</th>\n",
       "      <th>State</th>\n",
       "      <th>Product Category they like</th>\n",
       "      <th>Male</th>\n",
       "      <th>Tier-2</th>\n",
       "      <th>Tier-3</th>\n",
       "      <th>House keeper</th>\n",
       "      <th>Self employed</th>\n",
       "      <th>Student</th>\n",
       "      <th>Below ₹1000</th>\n",
       "      <th>₹1000-₹5000</th>\n",
       "      <th>₹5000-₹10000</th>\n",
       "    </tr>\n",
       "  </thead>\n",
       "  <tbody>\n",
       "    <tr>\n",
       "      <th>0</th>\n",
       "      <td>21</td>\n",
       "      <td>Haryana</td>\n",
       "      <td>Fashion</td>\n",
       "      <td>0</td>\n",
       "      <td>0</td>\n",
       "      <td>1</td>\n",
       "      <td>0</td>\n",
       "      <td>0</td>\n",
       "      <td>1</td>\n",
       "      <td>1</td>\n",
       "      <td>0</td>\n",
       "      <td>0</td>\n",
       "    </tr>\n",
       "    <tr>\n",
       "      <th>1</th>\n",
       "      <td>14</td>\n",
       "      <td>Haryana</td>\n",
       "      <td>Accessories</td>\n",
       "      <td>1</td>\n",
       "      <td>0</td>\n",
       "      <td>1</td>\n",
       "      <td>0</td>\n",
       "      <td>0</td>\n",
       "      <td>1</td>\n",
       "      <td>1</td>\n",
       "      <td>0</td>\n",
       "      <td>0</td>\n",
       "    </tr>\n",
       "    <tr>\n",
       "      <th>2</th>\n",
       "      <td>14</td>\n",
       "      <td>Haryana</td>\n",
       "      <td>Fashion</td>\n",
       "      <td>1</td>\n",
       "      <td>0</td>\n",
       "      <td>1</td>\n",
       "      <td>0</td>\n",
       "      <td>0</td>\n",
       "      <td>1</td>\n",
       "      <td>0</td>\n",
       "      <td>0</td>\n",
       "      <td>0</td>\n",
       "    </tr>\n",
       "    <tr>\n",
       "      <th>3</th>\n",
       "      <td>24</td>\n",
       "      <td>Uttar Pradesh</td>\n",
       "      <td>Accessories</td>\n",
       "      <td>1</td>\n",
       "      <td>1</td>\n",
       "      <td>0</td>\n",
       "      <td>0</td>\n",
       "      <td>0</td>\n",
       "      <td>1</td>\n",
       "      <td>0</td>\n",
       "      <td>1</td>\n",
       "      <td>0</td>\n",
       "    </tr>\n",
       "    <tr>\n",
       "      <th>4</th>\n",
       "      <td>20</td>\n",
       "      <td>Uttar Pradesh</td>\n",
       "      <td>Books</td>\n",
       "      <td>0</td>\n",
       "      <td>1</td>\n",
       "      <td>0</td>\n",
       "      <td>0</td>\n",
       "      <td>0</td>\n",
       "      <td>1</td>\n",
       "      <td>1</td>\n",
       "      <td>0</td>\n",
       "      <td>0</td>\n",
       "    </tr>\n",
       "  </tbody>\n",
       "</table>\n",
       "</div>"
      ],
      "text/plain": [
       "   Age          State Product Category they like  Male  Tier-2  Tier-3  \\\n",
       "0   21        Haryana                    Fashion     0       0       1   \n",
       "1   14        Haryana                Accessories     1       0       1   \n",
       "2   14        Haryana                    Fashion     1       0       1   \n",
       "3   24  Uttar Pradesh                Accessories     1       1       0   \n",
       "4   20  Uttar Pradesh                      Books     0       1       0   \n",
       "\n",
       "   House keeper  Self employed  Student  Below ₹1000  ₹1000-₹5000  \\\n",
       "0             0              0        1            1            0   \n",
       "1             0              0        1            1            0   \n",
       "2             0              0        1            0            0   \n",
       "3             0              0        1            0            1   \n",
       "4             0              0        1            1            0   \n",
       "\n",
       "   ₹5000-₹10000  \n",
       "0             0  \n",
       "1             0  \n",
       "2             0  \n",
       "3             0  \n",
       "4             0  "
      ]
     },
     "execution_count": 21,
     "metadata": {},
     "output_type": "execute_result"
    }
   ],
   "source": [
    "df.head()"
   ]
  },
  {
   "cell_type": "code",
   "execution_count": 22,
   "metadata": {},
   "outputs": [
    {
     "data": {
      "text/plain": [
       "Index(['Age', 'State', 'Product Category they like', 'Male', 'Tier-2',\n",
       "       'Tier-3', 'House keeper', 'Self employed', 'Student', 'Below ₹1000',\n",
       "       '₹1000-₹5000', '₹5000-₹10000'],\n",
       "      dtype='object')"
      ]
     },
     "execution_count": 22,
     "metadata": {},
     "output_type": "execute_result"
    }
   ],
   "source": [
    "df.columns"
   ]
  },
  {
   "cell_type": "code",
   "execution_count": 23,
   "metadata": {},
   "outputs": [],
   "source": [
    "df=df.reindex(columns=['Age', 'State', 'Male', 'Tier-2', 'Tier-3',\n",
    "       'House keeper', 'Self employed', 'Student', 'Below ₹1000',\n",
    "       '₹1000-₹5000', '₹5000-₹10000', 'Product Category they like'])"
   ]
  },
  {
   "cell_type": "code",
   "execution_count": 24,
   "metadata": {},
   "outputs": [
    {
     "data": {
      "text/plain": [
       "(229, 12)"
      ]
     },
     "execution_count": 24,
     "metadata": {},
     "output_type": "execute_result"
    }
   ],
   "source": [
    "df.shape"
   ]
  },
  {
   "cell_type": "code",
   "execution_count": 25,
   "metadata": {},
   "outputs": [
    {
     "data": {
      "text/html": [
       "<div>\n",
       "<style scoped>\n",
       "    .dataframe tbody tr th:only-of-type {\n",
       "        vertical-align: middle;\n",
       "    }\n",
       "\n",
       "    .dataframe tbody tr th {\n",
       "        vertical-align: top;\n",
       "    }\n",
       "\n",
       "    .dataframe thead th {\n",
       "        text-align: right;\n",
       "    }\n",
       "</style>\n",
       "<table border=\"1\" class=\"dataframe\">\n",
       "  <thead>\n",
       "    <tr style=\"text-align: right;\">\n",
       "      <th></th>\n",
       "      <th>Age</th>\n",
       "      <th>State</th>\n",
       "      <th>Male</th>\n",
       "      <th>Tier-2</th>\n",
       "      <th>Tier-3</th>\n",
       "      <th>House keeper</th>\n",
       "      <th>Self employed</th>\n",
       "      <th>Student</th>\n",
       "      <th>Below ₹1000</th>\n",
       "      <th>₹1000-₹5000</th>\n",
       "      <th>₹5000-₹10000</th>\n",
       "      <th>Product Category they like</th>\n",
       "    </tr>\n",
       "  </thead>\n",
       "  <tbody>\n",
       "    <tr>\n",
       "      <th>0</th>\n",
       "      <td>21</td>\n",
       "      <td>Haryana</td>\n",
       "      <td>0</td>\n",
       "      <td>0</td>\n",
       "      <td>1</td>\n",
       "      <td>0</td>\n",
       "      <td>0</td>\n",
       "      <td>1</td>\n",
       "      <td>1</td>\n",
       "      <td>0</td>\n",
       "      <td>0</td>\n",
       "      <td>Fashion</td>\n",
       "    </tr>\n",
       "    <tr>\n",
       "      <th>1</th>\n",
       "      <td>14</td>\n",
       "      <td>Haryana</td>\n",
       "      <td>1</td>\n",
       "      <td>0</td>\n",
       "      <td>1</td>\n",
       "      <td>0</td>\n",
       "      <td>0</td>\n",
       "      <td>1</td>\n",
       "      <td>1</td>\n",
       "      <td>0</td>\n",
       "      <td>0</td>\n",
       "      <td>Accessories</td>\n",
       "    </tr>\n",
       "    <tr>\n",
       "      <th>2</th>\n",
       "      <td>14</td>\n",
       "      <td>Haryana</td>\n",
       "      <td>1</td>\n",
       "      <td>0</td>\n",
       "      <td>1</td>\n",
       "      <td>0</td>\n",
       "      <td>0</td>\n",
       "      <td>1</td>\n",
       "      <td>0</td>\n",
       "      <td>0</td>\n",
       "      <td>0</td>\n",
       "      <td>Fashion</td>\n",
       "    </tr>\n",
       "    <tr>\n",
       "      <th>3</th>\n",
       "      <td>24</td>\n",
       "      <td>Uttar Pradesh</td>\n",
       "      <td>1</td>\n",
       "      <td>1</td>\n",
       "      <td>0</td>\n",
       "      <td>0</td>\n",
       "      <td>0</td>\n",
       "      <td>1</td>\n",
       "      <td>0</td>\n",
       "      <td>1</td>\n",
       "      <td>0</td>\n",
       "      <td>Accessories</td>\n",
       "    </tr>\n",
       "    <tr>\n",
       "      <th>4</th>\n",
       "      <td>20</td>\n",
       "      <td>Uttar Pradesh</td>\n",
       "      <td>0</td>\n",
       "      <td>1</td>\n",
       "      <td>0</td>\n",
       "      <td>0</td>\n",
       "      <td>0</td>\n",
       "      <td>1</td>\n",
       "      <td>1</td>\n",
       "      <td>0</td>\n",
       "      <td>0</td>\n",
       "      <td>Books</td>\n",
       "    </tr>\n",
       "  </tbody>\n",
       "</table>\n",
       "</div>"
      ],
      "text/plain": [
       "   Age          State  Male  Tier-2  Tier-3  House keeper  Self employed  \\\n",
       "0   21        Haryana     0       0       1             0              0   \n",
       "1   14        Haryana     1       0       1             0              0   \n",
       "2   14        Haryana     1       0       1             0              0   \n",
       "3   24  Uttar Pradesh     1       1       0             0              0   \n",
       "4   20  Uttar Pradesh     0       1       0             0              0   \n",
       "\n",
       "   Student  Below ₹1000  ₹1000-₹5000  ₹5000-₹10000 Product Category they like  \n",
       "0        1            1            0             0                    Fashion  \n",
       "1        1            1            0             0                Accessories  \n",
       "2        1            0            0             0                    Fashion  \n",
       "3        1            0            1             0                Accessories  \n",
       "4        1            1            0             0                      Books  "
      ]
     },
     "execution_count": 25,
     "metadata": {},
     "output_type": "execute_result"
    }
   ],
   "source": [
    "df.head()"
   ]
  },
  {
   "cell_type": "code",
   "execution_count": 26,
   "metadata": {},
   "outputs": [
    {
     "data": {
      "text/plain": [
       "Haryana              63\n",
       "Uttar Pradesh        56\n",
       "Delhi                23\n",
       "Karnataka            23\n",
       "Jharkhand            16\n",
       "Rajasthan            15\n",
       "Madhya Pradesh        7\n",
       "West Bengal           5\n",
       "Maharashtra           4\n",
       "Bihar                 3\n",
       "Telangana             3\n",
       "Odisha                3\n",
       "Gujarat               2\n",
       "Kerala                2\n",
       "Tamil Nadu            1\n",
       "Jammu and Kashmir     1\n",
       "Chhattisgarh          1\n",
       "Andhra Pradesh        1\n",
       "Name: State, dtype: int64"
      ]
     },
     "execution_count": 26,
     "metadata": {},
     "output_type": "execute_result"
    }
   ],
   "source": [
    "df['State'].value_counts()"
   ]
  },
  {
   "cell_type": "code",
   "execution_count": 27,
   "metadata": {},
   "outputs": [
    {
     "data": {
      "text/plain": [
       "<matplotlib.axes._subplots.AxesSubplot at 0x1e32febdeb0>"
      ]
     },
     "execution_count": 27,
     "metadata": {},
     "output_type": "execute_result"
    },
    {
     "data": {
      "image/png": "[encoded data removed]",
      "text/plain": [
       "<Figure size 1800x576 with 1 Axes>"
      ]
     },
     "metadata": {
      "needs_background": "light"
     },
     "output_type": "display_data"
    }
   ],
   "source": [
    "plt.figure(figsize=(25,8))\n",
    "sns.countplot('State',data=df,palette='muted',order = df['State'].value_counts().index)"
   ]
  },
  {
   "cell_type": "code",
   "execution_count": 28,
   "metadata": {},
   "outputs": [],
   "source": [
    "#Use Label Encoder for State\n",
    "from sklearn.preprocessing import LabelEncoder\n",
    "\n",
    "encoder = LabelEncoder()\n",
    "df['State'] = encoder.fit_transform(df['State'])\n"
   ]
  },
  {
   "cell_type": "code",
   "execution_count": 29,
   "metadata": {},
   "outputs": [
    {
     "data": {
      "text/plain": [
       "array([ 5, 16, 10,  8,  3, 14,  1, 13,  9, 15, 11, 17,  2,  7,  6, 12,  4,\n",
       "        0])"
      ]
     },
     "execution_count": 29,
     "metadata": {},
     "output_type": "execute_result"
    }
   ],
   "source": [
    "df.State.unique()"
   ]
  },
  {
   "cell_type": "code",
   "execution_count": 30,
   "metadata": {},
   "outputs": [
    {
     "data": {
      "text/plain": [
       "<matplotlib.axes._subplots.AxesSubplot at 0x1e330146ca0>"
      ]
     },
     "execution_count": 30,
     "metadata": {},
     "output_type": "execute_result"
    },
    {
     "data": {
      "image/png": "[encoded data removed]",
      "text/plain": [
       "<Figure size 576x504 with 1 Axes>"
      ]
     },
     "metadata": {
      "needs_background": "light"
     },
     "output_type": "display_data"
    }
   ],
   "source": [
    "plt.figure(figsize=(8,7))\n",
    "sns.countplot('Product Category they like',data=df,palette='deep',order = df['Product Category they like'].value_counts().index)"
   ]
  },
  {
   "cell_type": "code",
   "execution_count": 31,
   "metadata": {},
   "outputs": [
    {
     "data": {
      "application/javascript": [
       "\n",
       "        if (window._pyforest_update_imports_cell) { window._pyforest_update_imports_cell('from sklearn.model_selection import train_test_split'); }\n",
       "    "
      ],
      "text/plain": [
       "<IPython.core.display.Javascript object>"
      ]
     },
     "metadata": {},
     "output_type": "display_data"
    }
   ],
   "source": [
    "#Use Label Encoder for product category\n",
    "from sklearn.preprocessing import LabelEncoder\n",
    "X = df.drop('Product Category they like',axis=1)\n",
    "y =df['Product Category they like']\n",
    "\n",
    "encoder = LabelEncoder()\n",
    "y = encoder.fit_transform(y)\n",
    "\n",
    "x_train, x_test, y_train, y_test = train_test_split(X, y, test_size=0.2,random_state=1)\n"
   ]
  },
  {
   "cell_type": "code",
   "execution_count": 32,
   "metadata": {},
   "outputs": [],
   "source": [
    "from sklearn.linear_model import LogisticRegression\n",
    "logreg = LogisticRegression()"
   ]
  },
  {
   "cell_type": "code",
   "execution_count": 33,
   "metadata": {},
   "outputs": [
    {
     "data": {
      "text/html": [
       "<div>\n",
       "<style scoped>\n",
       "    .dataframe tbody tr th:only-of-type {\n",
       "        vertical-align: middle;\n",
       "    }\n",
       "\n",
       "    .dataframe tbody tr th {\n",
       "        vertical-align: top;\n",
       "    }\n",
       "\n",
       "    .dataframe thead th {\n",
       "        text-align: right;\n",
       "    }\n",
       "</style>\n",
       "<table border=\"1\" class=\"dataframe\">\n",
       "  <thead>\n",
       "    <tr style=\"text-align: right;\">\n",
       "      <th></th>\n",
       "      <th>Age</th>\n",
       "      <th>State</th>\n",
       "      <th>Male</th>\n",
       "      <th>Tier-2</th>\n",
       "      <th>Tier-3</th>\n",
       "      <th>House keeper</th>\n",
       "      <th>Self employed</th>\n",
       "      <th>Student</th>\n",
       "      <th>Below ₹1000</th>\n",
       "      <th>₹1000-₹5000</th>\n",
       "      <th>₹5000-₹10000</th>\n",
       "    </tr>\n",
       "  </thead>\n",
       "  <tbody>\n",
       "    <tr>\n",
       "      <th>0</th>\n",
       "      <td>21</td>\n",
       "      <td>5</td>\n",
       "      <td>0</td>\n",
       "      <td>0</td>\n",
       "      <td>1</td>\n",
       "      <td>0</td>\n",
       "      <td>0</td>\n",
       "      <td>1</td>\n",
       "      <td>1</td>\n",
       "      <td>0</td>\n",
       "      <td>0</td>\n",
       "    </tr>\n",
       "    <tr>\n",
       "      <th>1</th>\n",
       "      <td>14</td>\n",
       "      <td>5</td>\n",
       "      <td>1</td>\n",
       "      <td>0</td>\n",
       "      <td>1</td>\n",
       "      <td>0</td>\n",
       "      <td>0</td>\n",
       "      <td>1</td>\n",
       "      <td>1</td>\n",
       "      <td>0</td>\n",
       "      <td>0</td>\n",
       "    </tr>\n",
       "    <tr>\n",
       "      <th>2</th>\n",
       "      <td>14</td>\n",
       "      <td>5</td>\n",
       "      <td>1</td>\n",
       "      <td>0</td>\n",
       "      <td>1</td>\n",
       "      <td>0</td>\n",
       "      <td>0</td>\n",
       "      <td>1</td>\n",
       "      <td>0</td>\n",
       "      <td>0</td>\n",
       "      <td>0</td>\n",
       "    </tr>\n",
       "    <tr>\n",
       "      <th>3</th>\n",
       "      <td>24</td>\n",
       "      <td>16</td>\n",
       "      <td>1</td>\n",
       "      <td>1</td>\n",
       "      <td>0</td>\n",
       "      <td>0</td>\n",
       "      <td>0</td>\n",
       "      <td>1</td>\n",
       "      <td>0</td>\n",
       "      <td>1</td>\n",
       "      <td>0</td>\n",
       "    </tr>\n",
       "    <tr>\n",
       "      <th>4</th>\n",
       "      <td>20</td>\n",
       "      <td>16</td>\n",
       "      <td>0</td>\n",
       "      <td>1</td>\n",
       "      <td>0</td>\n",
       "      <td>0</td>\n",
       "      <td>0</td>\n",
       "      <td>1</td>\n",
       "      <td>1</td>\n",
       "      <td>0</td>\n",
       "      <td>0</td>\n",
       "    </tr>\n",
       "    <tr>\n",
       "      <th>...</th>\n",
       "      <td>...</td>\n",
       "      <td>...</td>\n",
       "      <td>...</td>\n",
       "      <td>...</td>\n",
       "      <td>...</td>\n",
       "      <td>...</td>\n",
       "      <td>...</td>\n",
       "      <td>...</td>\n",
       "      <td>...</td>\n",
       "      <td>...</td>\n",
       "      <td>...</td>\n",
       "    </tr>\n",
       "    <tr>\n",
       "      <th>224</th>\n",
       "      <td>35</td>\n",
       "      <td>8</td>\n",
       "      <td>1</td>\n",
       "      <td>0</td>\n",
       "      <td>0</td>\n",
       "      <td>0</td>\n",
       "      <td>0</td>\n",
       "      <td>0</td>\n",
       "      <td>0</td>\n",
       "      <td>0</td>\n",
       "      <td>1</td>\n",
       "    </tr>\n",
       "    <tr>\n",
       "      <th>225</th>\n",
       "      <td>40</td>\n",
       "      <td>8</td>\n",
       "      <td>0</td>\n",
       "      <td>0</td>\n",
       "      <td>0</td>\n",
       "      <td>0</td>\n",
       "      <td>1</td>\n",
       "      <td>0</td>\n",
       "      <td>0</td>\n",
       "      <td>0</td>\n",
       "      <td>0</td>\n",
       "    </tr>\n",
       "    <tr>\n",
       "      <th>226</th>\n",
       "      <td>30</td>\n",
       "      <td>16</td>\n",
       "      <td>1</td>\n",
       "      <td>1</td>\n",
       "      <td>0</td>\n",
       "      <td>0</td>\n",
       "      <td>0</td>\n",
       "      <td>0</td>\n",
       "      <td>0</td>\n",
       "      <td>0</td>\n",
       "      <td>0</td>\n",
       "    </tr>\n",
       "    <tr>\n",
       "      <th>227</th>\n",
       "      <td>21</td>\n",
       "      <td>5</td>\n",
       "      <td>1</td>\n",
       "      <td>0</td>\n",
       "      <td>1</td>\n",
       "      <td>0</td>\n",
       "      <td>0</td>\n",
       "      <td>1</td>\n",
       "      <td>0</td>\n",
       "      <td>1</td>\n",
       "      <td>0</td>\n",
       "    </tr>\n",
       "    <tr>\n",
       "      <th>228</th>\n",
       "      <td>44</td>\n",
       "      <td>8</td>\n",
       "      <td>0</td>\n",
       "      <td>0</td>\n",
       "      <td>0</td>\n",
       "      <td>0</td>\n",
       "      <td>1</td>\n",
       "      <td>0</td>\n",
       "      <td>0</td>\n",
       "      <td>0</td>\n",
       "      <td>1</td>\n",
       "    </tr>\n",
       "  </tbody>\n",
       "</table>\n",
       "<p>229 rows × 11 columns</p>\n",
       "</div>"
      ],
      "text/plain": [
       "     Age  State  Male  Tier-2  Tier-3  House keeper  Self employed  Student  \\\n",
       "0     21      5     0       0       1             0              0        1   \n",
       "1     14      5     1       0       1             0              0        1   \n",
       "2     14      5     1       0       1             0              0        1   \n",
       "3     24     16     1       1       0             0              0        1   \n",
       "4     20     16     0       1       0             0              0        1   \n",
       "..   ...    ...   ...     ...     ...           ...            ...      ...   \n",
       "224   35      8     1       0       0             0              0        0   \n",
       "225   40      8     0       0       0             0              1        0   \n",
       "226   30     16     1       1       0             0              0        0   \n",
       "227   21      5     1       0       1             0              0        1   \n",
       "228   44      8     0       0       0             0              1        0   \n",
       "\n",
       "     Below ₹1000  ₹1000-₹5000  ₹5000-₹10000  \n",
       "0              1            0             0  \n",
       "1              1            0             0  \n",
       "2              0            0             0  \n",
       "3              0            1             0  \n",
       "4              1            0             0  \n",
       "..           ...          ...           ...  \n",
       "224            0            0             1  \n",
       "225            0            0             0  \n",
       "226            0            0             0  \n",
       "227            0            1             0  \n",
       "228            0            0             1  \n",
       "\n",
       "[229 rows x 11 columns]"
      ]
     },
     "execution_count": 33,
     "metadata": {},
     "output_type": "execute_result"
    }
   ],
   "source": [
    "X"
   ]
  },
  {
   "cell_type": "code",
   "execution_count": 34,
   "metadata": {},
   "outputs": [
    {
     "data": {
      "text/plain": [
       "LogisticRegression()"
      ]
     },
     "execution_count": 34,
     "metadata": {},
     "output_type": "execute_result"
    }
   ],
   "source": [
    "logreg.fit(X,y)"
   ]
  },
  {
   "cell_type": "code",
   "execution_count": 35,
   "metadata": {},
   "outputs": [],
   "source": [
    "predicted=logreg.predict(x_test)"
   ]
  },
  {
   "cell_type": "code",
   "execution_count": 36,
   "metadata": {},
   "outputs": [
    {
     "name": "stdout",
     "output_type": "stream",
     "text": [
      "              precision    recall  f1-score   support\n",
      "\n",
      "           0       0.55      0.60      0.57        10\n",
      "           1       0.55      0.46      0.50        13\n",
      "           2       0.54      0.50      0.52        14\n",
      "           3       0.55      0.67      0.60         9\n",
      "\n",
      "    accuracy                           0.54        46\n",
      "   macro avg       0.54      0.56      0.55        46\n",
      "weighted avg       0.54      0.54      0.54        46\n",
      "\n"
     ]
    }
   ],
   "source": [
    "from sklearn.metrics import classification_report,accuracy_score\n",
    "print(classification_report(y_test,predicted))"
   ]
  },
  {
   "cell_type": "code",
   "execution_count": 37,
   "metadata": {},
   "outputs": [
    {
     "name": "stdout",
     "output_type": "stream",
     "text": [
      "0.5434782608695652\n"
     ]
    }
   ],
   "source": [
    "print(accuracy_score(y_test,predicted))"
   ]
  },
  {
   "cell_type": "code",
   "execution_count": 38,
   "metadata": {},
   "outputs": [
    {
     "name": "stdout",
     "output_type": "stream",
     "text": [
      "Feature: 0, Score: 0.00460 Age\n",
      "Feature: 1, Score: 0.01613 State\n",
      "Feature: 2, Score: 1.19231 Male\n",
      "Feature: 3, Score: -0.85647 Tier-2\n",
      "Feature: 4, Score: -0.69944 Tier-3\n",
      "Feature: 5, Score: -0.00140 House keeper\n",
      "Feature: 6, Score: 0.08264 Self employed\n",
      "Feature: 7, Score: -0.28307 Student\n",
      "Feature: 8, Score: -0.03039 Below ₹1000\n",
      "Feature: 9, Score: 0.11435 ₹1000-₹5000\n",
      "Feature: 10, Score: -0.25499 ₹5000-₹10000\n"
     ]
    },
    {
     "data": {
      "image/png": "[encoded data removed]",
      "text/plain": [
       "<Figure size 432x288 with 1 Axes>"
      ]
     },
     "metadata": {
      "needs_background": "light"
     },
     "output_type": "display_data"
    }
   ],
   "source": [
    "# get importance\n",
    "importance = logreg.coef_[0]\n",
    "# summarize feature importance\n",
    "for i,v in enumerate(importance):\n",
    "\tprint('Feature: %0d, Score: %.5f' % (i,v),df.columns[i])\n",
    "# plot feature importance\n",
    "plt.bar([x for x in range(len(importance))], importance)\n",
    "plt.show()"
   ]
  },
  {
   "cell_type": "markdown",
   "metadata": {},
   "source": [
    "### Feature 2 i.e Gender precisely to be Male has highest importance in this dataset."
   ]
  },
  {
   "cell_type": "code",
   "execution_count": 39,
   "metadata": {},
   "outputs": [],
   "source": [
    "df_new=df[df['Male']==1]"
   ]
  },
  {
   "cell_type": "code",
   "execution_count": 40,
   "metadata": {},
   "outputs": [
    {
     "data": {
      "text/html": [
       "<div>\n",
       "<style scoped>\n",
       "    .dataframe tbody tr th:only-of-type {\n",
       "        vertical-align: middle;\n",
       "    }\n",
       "\n",
       "    .dataframe tbody tr th {\n",
       "        vertical-align: top;\n",
       "    }\n",
       "\n",
       "    .dataframe thead th {\n",
       "        text-align: right;\n",
       "    }\n",
       "</style>\n",
       "<table border=\"1\" class=\"dataframe\">\n",
       "  <thead>\n",
       "    <tr style=\"text-align: right;\">\n",
       "      <th></th>\n",
       "      <th>Age</th>\n",
       "      <th>State</th>\n",
       "      <th>Male</th>\n",
       "      <th>Tier-2</th>\n",
       "      <th>Tier-3</th>\n",
       "      <th>House keeper</th>\n",
       "      <th>Self employed</th>\n",
       "      <th>Student</th>\n",
       "      <th>Below ₹1000</th>\n",
       "      <th>₹1000-₹5000</th>\n",
       "      <th>₹5000-₹10000</th>\n",
       "      <th>Product Category they like</th>\n",
       "    </tr>\n",
       "  </thead>\n",
       "  <tbody>\n",
       "    <tr>\n",
       "      <th>1</th>\n",
       "      <td>14</td>\n",
       "      <td>5</td>\n",
       "      <td>1</td>\n",
       "      <td>0</td>\n",
       "      <td>1</td>\n",
       "      <td>0</td>\n",
       "      <td>0</td>\n",
       "      <td>1</td>\n",
       "      <td>1</td>\n",
       "      <td>0</td>\n",
       "      <td>0</td>\n",
       "      <td>Accessories</td>\n",
       "    </tr>\n",
       "    <tr>\n",
       "      <th>2</th>\n",
       "      <td>14</td>\n",
       "      <td>5</td>\n",
       "      <td>1</td>\n",
       "      <td>0</td>\n",
       "      <td>1</td>\n",
       "      <td>0</td>\n",
       "      <td>0</td>\n",
       "      <td>1</td>\n",
       "      <td>0</td>\n",
       "      <td>0</td>\n",
       "      <td>0</td>\n",
       "      <td>Fashion</td>\n",
       "    </tr>\n",
       "    <tr>\n",
       "      <th>3</th>\n",
       "      <td>24</td>\n",
       "      <td>16</td>\n",
       "      <td>1</td>\n",
       "      <td>1</td>\n",
       "      <td>0</td>\n",
       "      <td>0</td>\n",
       "      <td>0</td>\n",
       "      <td>1</td>\n",
       "      <td>0</td>\n",
       "      <td>1</td>\n",
       "      <td>0</td>\n",
       "      <td>Accessories</td>\n",
       "    </tr>\n",
       "    <tr>\n",
       "      <th>5</th>\n",
       "      <td>15</td>\n",
       "      <td>5</td>\n",
       "      <td>1</td>\n",
       "      <td>0</td>\n",
       "      <td>1</td>\n",
       "      <td>0</td>\n",
       "      <td>0</td>\n",
       "      <td>1</td>\n",
       "      <td>1</td>\n",
       "      <td>0</td>\n",
       "      <td>0</td>\n",
       "      <td>Health and Households</td>\n",
       "    </tr>\n",
       "    <tr>\n",
       "      <th>6</th>\n",
       "      <td>14</td>\n",
       "      <td>5</td>\n",
       "      <td>1</td>\n",
       "      <td>0</td>\n",
       "      <td>1</td>\n",
       "      <td>0</td>\n",
       "      <td>0</td>\n",
       "      <td>1</td>\n",
       "      <td>0</td>\n",
       "      <td>0</td>\n",
       "      <td>0</td>\n",
       "      <td>Accessories</td>\n",
       "    </tr>\n",
       "  </tbody>\n",
       "</table>\n",
       "</div>"
      ],
      "text/plain": [
       "   Age  State  Male  Tier-2  Tier-3  House keeper  Self employed  Student  \\\n",
       "1   14      5     1       0       1             0              0        1   \n",
       "2   14      5     1       0       1             0              0        1   \n",
       "3   24     16     1       1       0             0              0        1   \n",
       "5   15      5     1       0       1             0              0        1   \n",
       "6   14      5     1       0       1             0              0        1   \n",
       "\n",
       "   Below ₹1000  ₹1000-₹5000  ₹5000-₹10000 Product Category they like  \n",
       "1            1            0             0                Accessories  \n",
       "2            0            0             0                    Fashion  \n",
       "3            0            1             0                Accessories  \n",
       "5            1            0             0      Health and Households  \n",
       "6            0            0             0                Accessories  "
      ]
     },
     "execution_count": 40,
     "metadata": {},
     "output_type": "execute_result"
    }
   ],
   "source": [
    "df_new.head()"
   ]
  },
  {
   "cell_type": "code",
   "execution_count": 41,
   "metadata": {},
   "outputs": [
    {
     "data": {
      "text/plain": [
       "Accessories              53\n",
       "Fashion                  33\n",
       "Health and Households    30\n",
       "Books                    24\n",
       "Name: Product Category they like, dtype: int64"
      ]
     },
     "execution_count": 41,
     "metadata": {},
     "output_type": "execute_result"
    }
   ],
   "source": [
    "df_new['Product Category they like'].value_counts()"
   ]
  },
  {
   "cell_type": "code",
   "execution_count": 42,
   "metadata": {},
   "outputs": [
    {
     "data": {
      "text/plain": [
       "(59, 12)"
      ]
     },
     "execution_count": 42,
     "metadata": {},
     "output_type": "execute_result"
    }
   ],
   "source": [
    "df_new[df_new['₹1000-₹5000']>0].shape"
   ]
  },
  {
   "cell_type": "code",
   "execution_count": 43,
   "metadata": {},
   "outputs": [
    {
     "data": {
      "text/plain": [
       "(44, 12)"
      ]
     },
     "execution_count": 43,
     "metadata": {},
     "output_type": "execute_result"
    }
   ],
   "source": [
    "df_new[df_new['Below ₹1000']>0].shape"
   ]
  },
  {
   "cell_type": "code",
   "execution_count": 44,
   "metadata": {},
   "outputs": [
    {
     "data": {
      "text/plain": [
       "(18, 12)"
      ]
     },
     "execution_count": 44,
     "metadata": {},
     "output_type": "execute_result"
    }
   ],
   "source": [
    "df_new[df_new['₹5000-₹10000']>0].shape"
   ]
  },
  {
   "cell_type": "code",
   "execution_count": 45,
   "metadata": {},
   "outputs": [
    {
     "data": {
      "text/plain": [
       "(19, 12)"
      ]
     },
     "execution_count": 45,
     "metadata": {},
     "output_type": "execute_result"
    }
   ],
   "source": [
    "df_new[(df_new['Below ₹1000']==0) &(df_new['₹1000-₹5000']==0) & (df_new['₹5000-₹10000']==0)].shape # Above ₹10,000"
   ]
  },
  {
   "cell_type": "code",
   "execution_count": 47,
   "metadata": {},
   "outputs": [
    {
     "data": {
      "text/plain": [
       "(90, 12)"
      ]
     },
     "execution_count": 47,
     "metadata": {},
     "output_type": "execute_result"
    }
   ],
   "source": [
    "df_new[df_new['Student']==1].shape"
   ]
  },
  {
   "cell_type": "code",
   "execution_count": 49,
   "metadata": {},
   "outputs": [
    {
     "data": {
      "text/plain": [
       "(140, 12)"
      ]
     },
     "execution_count": 49,
     "metadata": {},
     "output_type": "execute_result"
    }
   ],
   "source": [
    "df_new.shape"
   ]
  },
  {
   "cell_type": "markdown",
   "metadata": {},
   "source": [
    "## Observation: Mostly males (65% of them are students) are spending their money in buying accessories with average quarterly expenditure of ₹1000-₹5000"
   ]
  },
  {
   "cell_type": "code",
   "execution_count": null,
   "metadata": {},
   "outputs": [],
   "source": []
  }
 ],
 "metadata": {
  "kernelspec": {
   "display_name": "Python 3",
   "language": "python",
   "name": "python3"
  },
  "language_info": {
   "codemirror_mode": {
    "name": "ipython",
    "version": 3
   },
   "file_extension": ".py",
   "mimetype": "text/x-python",
   "name": "python",
   "nbconvert_exporter": "python",
   "pygments_lexer": "ipython3",
   "version": "3.8.3"
  }
 },
 "nbformat": 4,
 "nbformat_minor": 4
}
